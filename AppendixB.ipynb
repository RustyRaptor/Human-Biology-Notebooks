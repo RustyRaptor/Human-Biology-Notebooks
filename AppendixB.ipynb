{
 "cells": [
  {
   "cell_type": "markdown",
   "metadata": {},
   "source": [
    "### Appendix B\n",
    "\n",
    "|         | Starting Count Target Bacteria | Surviving Count Target Bacteria After Treatment | Surviving Percentage Surviving Count/Starting Count * 100 |\n",
    "|---------|--------------------------------|-------------------------------------------------|-----------------------------------------------------------|\n",
    "| Group A | 50                             | 9                                               | 18%                                                       |\n",
    "| Group B | 50                             | 21                                              | 42%                                                       |"
   ]
  }
 ],
 "metadata": {
  "kernelspec": {
   "display_name": ".venv",
   "language": "python",
   "name": "python3"
  },
  "language_info": {
   "codemirror_mode": {
    "name": "ipython",
    "version": 3
   },
   "file_extension": ".py",
   "mimetype": "text/x-python",
   "name": "python",
   "nbconvert_exporter": "python",
   "pygments_lexer": "ipython3",
   "version": "3.11.8"
  }
 },
 "nbformat": 4,
 "nbformat_minor": 2
}
