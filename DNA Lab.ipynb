{
 "cells": [
  {
   "cell_type": "markdown",
   "metadata": {},
   "source": [
    "# DNA lab observations\n",
    "- Ziad Arafat\n",
    "- 02/27/2024\n",
    "- New Mexico State University\n",
    "\n",
    "## Observations\n",
    "\n",
    "- Question 1\n",
    "  - Description of our DNA model\n",
    "    - Our model is two columns of alternating deoxyribose sugar with phosphate group molecules. \n",
    "    - In between these columns, connected on the deoxyribose sugar, starting from the top, left to right we have rows as follows. \n",
    "      - guanine, cytosine\n",
    "      - cytosine, guanine\n",
    "      - thymine, adenine\n",
    "      - guanine, cytosine\n",
    "      - cytosine, guanine\n",
    "      - thymine, adenine\n",
    "- Question 2\n",
    "  - $\\frac{100 - (23 \\times 2)} {2} = 27\\%$\n",
    "  - 27 percent\n",
    "- What is the sequence of nucleotides in the RNA you created?\n",
    "  - C:G\n",
    "  - A:U\n",
    "  - G:C\n",
    "  - G:C\n",
    "  - A:U\n",
    "  - C:G\n",
    "  - T:A\n",
    "  - A:U\n",
    "  - G:C\n",
    "  - A:U\n",
    "  - A:U\n",
    "  - T:A\n",
    "  - T:A\n",
    "  - C:G\n",
    "  - T:A\n",
    "- Protein\n",
    "  - GGU:CCA\n",
    "  - AUU:UAA\n",
    "  - GAC:CUG\n",
    "  - UAU:AUA\n",
    "  - GCA:CGU\n",
    "  - GCU:CGA\n",
    "  - UUA:AAU\n",
    "  - ACU:UGA\n",
    "  - CCA:GGU\n",
    "  - CCC:GGG\n",
    "  - GUU:CAA\n",
    "- What is the sequence of amino acids in the protein you created?\n",
    "  - CCA: Proline (Pro)\n",
    "  - UAA: (Stop codon)\n",
    "  - CUG: Leucine (Leu)\n",
    "  - AUA: Isoleucine (Ile)\n",
    "  - CGU: Arginine (Arg)\n",
    "  - CGA: Arginine (Arg)\n",
    "  - AAU: Asparagine (Asn)\n",
    "  - UGA: (Stop codon)\n",
    "  - GGU: Glycine (Gly)\n",
    "  - GGG: Glycine (Gly)\n",
    "  - CAA: Glutamine (Gln)\n",
    "- 1. Converting to RNA\n",
    "  - UUU CCU GAU ACC UGU GAA GCA CGG AAG CCU GCC\n",
    "  - Phe Pro Asp Thr Cys Glu Ala Arg Lys Pro Ala\n",
    "- 2.\n",
    "  - UUU CCU GAU ACC UGU GAA GCA CGG AAG CCU GCC\n",
    "  - Phe Pro Asp Thr Cys Glu Ala Arg Lys Pro Ala"
   ]
  },
  {
   "cell_type": "code",
   "execution_count": 2,
   "metadata": {},
   "outputs": [
    {
     "name": "stdout",
     "output_type": "stream",
     "text": [
      "152.9 cm\n",
      "5.016404199475065 inches\n"
     ]
    }
   ],
   "source": []
  },
  {
   "cell_type": "code",
   "execution_count": null,
   "metadata": {},
   "outputs": [],
   "source": []
  }
 ],
 "metadata": {
  "kernelspec": {
   "display_name": ".venv",
   "language": "python",
   "name": "python3"
  },
  "language_info": {
   "codemirror_mode": {
    "name": "ipython",
    "version": 3
   },
   "file_extension": ".py",
   "mimetype": "text/x-python",
   "name": "python",
   "nbconvert_exporter": "python",
   "pygments_lexer": "ipython3",
   "version": "3.11.7"
  }
 },
 "nbformat": 4,
 "nbformat_minor": 2
}
