{
 "cells": [
  {
   "cell_type": "code",
   "execution_count": 7,
   "metadata": {},
   "outputs": [],
   "source": [
    "# Recorded Data\n",
    "\n",
    "# A and D\n",
    "# h,1, infected\n",
    "\n",
    "data_analysis_1 = {\n",
    "        \"nicholas\": ((\"H\",), 1, 1), \n",
    "        \"simone\": ((\"E\", \"A\"), 2, 1), \n",
    "        \"ziad\": ((\"D\", \"A\"), 4, 1), \n",
    "        \"demetrius\": ((\"C\", \"F\"), 2, 0),\n",
    "        \"quentin\": ((\"A\",), 5, 1), \n",
    "        \"michigan\": ((\"D\",), 2, 0), \n",
    "        \"jerry\": ((\"E\",), 2, 0),\n",
    "        \"jessie\": ((\"C\",), 2, 0),\n",
    "        \"christa\": ((\"C\", \"A\", \"H\"), 11, 1),\n",
    "}\n",
    "\n",
    "data_analysis_2 = {\n",
    "        \"alex\": ((\"D\", \"A\", \"F\"), 3, 0), \n",
    "        \"rilen\": ((\"G\", \"C\"), 2, 1), \n",
    "        \"aksel\": ((\"G\", \"B\"), 3, 1), \n",
    "        \"ashley\": ((\"E\", \"A\", \"D\"), 5, 0), \n",
    "        \"kelsey\": ((\"H\", \"G\", \"F\"), 8, 0), \n",
    "        \"alejandro\": ((\"E\", \"A\"), 6, 0),\n",
    "        \"vonna\": ((\"A\",), 6, 0),\n",
    "        \"jordan\": ((\"H\", \"D\", \"B\"), 10, 1)\n",
    "}\n",
    "\n",
    "def get_range(number_partners):\n",
    "        if number_partners in (1, 2):\n",
    "                return \"low\"\n",
    "        if number_partners in (3, 4, 5):\n",
    "                return \"medium\"\n",
    "        else:\n",
    "                return \"high\"\n"
   ]
  },
  {
   "cell_type": "code",
   "execution_count": 5,
   "metadata": {},
   "outputs": [
    {
     "name": "stdout",
     "output_type": "stream",
     "text": [
      "nicholas has 1 partners: ('H',) and is in the low range.\n",
      "simone has 2 partners: ('E', 'A') and is in the low range.\n",
      "ziad has 4 partners: ('D', 'A') and is in the medium range.\n",
      "demetrius has 2 partners: ('C', 'F') and is in the low range.\n",
      "quentin has 5 partners: ('A',) and is in the medium range.\n",
      "michigan has 2 partners: ('D',) and is in the low range.\n",
      "jerry has 2 partners: ('E',) and is in the low range.\n",
      "jessie has 2 partners: ('C',) and is in the low range.\n",
      "christa has 11 partners: ('C', 'A', 'H') and is in the high range.\n"
     ]
    }
   ],
   "source": [
    "for name, (partners, number_partners) in data_analysis_1.items():\n",
    "        print(f\"{name} has {number_partners} partners: {partners} and is in the {get_range(number_partners)} range.\")"
   ]
  },
  {
   "cell_type": "code",
   "execution_count": 6,
   "metadata": {},
   "outputs": [
    {
     "name": "stdout",
     "output_type": "stream",
     "text": [
      "alex has 3 partners: ('D', 'A', 'F') and is in the medium range.\n",
      "rilen has 2 partners: ('G', 'C') and is in the low range.\n",
      "aksel has 3 partners: ('G', 'B') and is in the medium range.\n",
      "ashley has 5 partners: ('E', 'A', 'D') and is in the medium range.\n",
      "kelsey has 8 partners: ('H', 'G', 'F') and is in the high range.\n",
      "alejandro has 6 partners: ('E', 'A') and is in the high range.\n",
      "vonna has 6 partners: ('A',) and is in the high range.\n",
      "jordan has 10 partners: ('H', 'D', 'B') and is in the high range.\n"
     ]
    }
   ],
   "source": [
    "for name, (partners, number_partners) in data_analysis_2.items():\n",
    "        print(f\"{name} has {number_partners} partners: {partners} and is in the {get_range(number_partners)} range.\")"
   ]
  },
  {
   "cell_type": "code",
   "execution_count": 8,
   "metadata": {},
   "outputs": [],
   "source": [
    "#(total_students, number testing positive, proportion testing positive)\n",
    "results_data = {\n",
    "        \"low\": (0, 0, 0),\n",
    "        \"medium\": (0, 0, 0),\n",
    "        \"high\": (0, 0, 0),\n",
    "}"
   ]
  },
  {
   "cell_type": "code",
   "execution_count": null,
   "metadata": {},
   "outputs": [],
   "source": []
  }
 ],
 "metadata": {
  "kernelspec": {
   "display_name": ".venv",
   "language": "python",
   "name": "python3"
  },
  "language_info": {
   "codemirror_mode": {
    "name": "ipython",
    "version": 3
   },
   "file_extension": ".py",
   "mimetype": "text/x-python",
   "name": "python",
   "nbconvert_exporter": "python",
   "pygments_lexer": "ipython3",
   "version": "3.12.3"
  }
 },
 "nbformat": 4,
 "nbformat_minor": 2
}
