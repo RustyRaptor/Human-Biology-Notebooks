{
 "cells": [
  {
   "cell_type": "markdown",
   "metadata": {},
   "source": [
    "# Sensory Experiment Lab Report\n",
    "\n",
    "## Experiment 2\n",
    "\n",
    "### Introduction\n",
    "Our group decided to conduct experiment Two. The hypothesis of experiment two is that the way in which our sensory receptors are distributed will impact how we perceive stimuli (Marion & Preszler, 2019). \n",
    "\n",
    "### Methods\n",
    "\n",
    "The experiment was conducted by gently poking a subject's skin with a two-pronged measuring tool with varying distance between the prongs and recording the subject's perception of whether they felt one or two points. This was tested on 3 different body parts: the lower arm, back of hand, and fingertip. \n",
    "\n",
    "The dependent variable was the distance between the prongs being \"close\", \"medium\", or \"far\" at the time that the subject felt one point as opposed to two. The independent variable was the body part being tested.\n",
    "\n",
    "### Predicted Results\n",
    "\n",
    "Our prediction was that for the fingertip and lower arm the distance would be \"close\" while for the back of hand it would be \"medium\" in comparison. This was purely based on intuition.\n",
    "\n",
    "### Observed Results\n",
    "\n",
    "What we observed was that the result varied between our two chosen subjects as well as the body part tested. For the lower arm, the distance was perceived as \"close\" for subject one and \"far\" for subject two. For the back of the hand, the distance was perceived as \"close\" for both subjects. For the fingertip, the distance was perceived as \"close\" for both subjects **(see Table 18.1 below)**.\n",
    "\n",
    "### Conclusion\n",
    "\n",
    "The data in this experiment does not adequately support or refute the hypothesis. This is because the data lacks information about the distribution of sensory receptors in the body parts tested and additionally, due to our groups misunderstanding of the experiment, we did not have a clear definition of what \"close\" and \"far\" meant in terms of distance between the prongs. Although we can make intuitive guesses about the distribution of sensory receptors in the body parts, we cannot make any definitive conclusions based on the data collected. A better experiment would have been to measure the distance between the prongs and have a relative measure of the distribution of sensory receptors in the body parts tested.\n",
    "\n",
    "\n",
    "\n",
    "## Experiment 4\n",
    "\n",
    "### Introduction\n",
    "\n",
    "Our group decided to conduct experiment Four. The hypothesis of experiment four is that the way we interpret stimuli has an effect on how we perceive the stimuli (Marion & Preszler, 2019).\n",
    "\n",
    "### Methods\n",
    "\n",
    "The experiment was conducted by having a volunteer toss ping pong balls and each subject is asked to try to catch them with one hand. The toss and catch is performed 30 times under each of the following conditions: with the subject covering one eye with their hand and then with the subject having both eyes uncovered.\n",
    "\n",
    "The dependent variable was the catch rate of the subject and the independent variable was the condition of the subject's eye(s).\n",
    "\n",
    "### Predicted Results\n",
    "\n",
    "Our prediction was that the catch rate would be higher when the subject had both eyes uncovered compared to when they had one eye covered. The reasoning for this is based on information in our lab manual, which states that animals such as humans have binocular vision which allows for better depth perception and the ability to track moving objects (Marion & Preszler, 2019).\n",
    "\n",
    "### Observed Results\n",
    "\n",
    "What we observed was that the catch rate was higher when the subject had both eyes uncovered compared to when they had one eye covered **(see Table 18.4 below)**.\n",
    "\n",
    "### Conclusion\n",
    "\n",
    "The data in this experiment supports the hypothesis that the way we interpret stimuli has an effect on how we perceive the stimuli. Although this hypothesis is rather vague and it might not be immediately clear how the data might support it, the data showed that when we modified the way the subject interprets the stimuli (by removing the interpretation of depth) the subject's perception of the stimuli was also impacted and we can see this by the change in catch rate.\n",
    "\n",
    "### Raw Data Recorded"
   ]
  }
 ],
 "metadata": {
  "kernelspec": {
   "display_name": ".venv",
   "language": "python",
   "name": "python3"
  },
  "language_info": {
   "codemirror_mode": {
    "name": "ipython",
    "version": 3
   },
   "file_extension": ".py",
   "mimetype": "text/x-python",
   "name": "python",
   "nbconvert_exporter": "python",
   "pygments_lexer": "ipython3",
   "version": "3.12.3"
  }
 },
 "nbformat": 4,
 "nbformat_minor": 2
}
