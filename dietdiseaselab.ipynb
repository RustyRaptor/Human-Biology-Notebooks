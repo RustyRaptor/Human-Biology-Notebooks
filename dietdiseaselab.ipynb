{
 "cells": [
  {
   "cell_type": "markdown",
   "metadata": {},
   "source": [
    "<!-- 1. What is a vegan diet\n",
    "   1. A Vegan diet is a diet that comoses of plant-based foods and excludes all animal products.\n",
    "2. How does a vegan diet differ from the USDA Dietary Guidelines for Americans\n",
    "   1. The USDA Dietary Guidelines for Americans recommends a diet that includes animal products, such as meat, dairy, and eggs, while a vegan diet excludes all animal products.\n",
    "3. What is the difference between a vegetarian and a vegan diet\n",
    "   1. A vegetarian diet excludes meat, poultry, and fish, but may include dairy and eggs, while a vegan diet excludes all animal products.\n",
    "4. Which foods are emphasized in a vegan diet\n",
    "   1. A vegan diet emphasizes plant-based foods, such as fruits, vegetables, whole grains, legumes, nuts, and seeds.\n",
    "5. Which foods are not eaten on a vegan diet\n",
    "   1. A vegan diet does not include animal products, such as meat, poultry, fish, dairy, and eggs.\n",
    "6. How does a person following a vegan diet ensure that they are obtaining enough protein?\n",
    "   1. A person following a vegan diet can obtain enough protein by eating a variety of plant-based foods, such as legumes, nuts, seeds, and whole grains. -->\n",
    "\n",
    "# Vegan Diet\n",
    "\n",
    "## Summary of a Vegan Diet\n",
    "\n",
    "\n",
    "According to Łuszczki et al., a vegan diet consists entirely of plant-based foods and avoids all animal products including meat, dairy, and eggs (Łuszczki et al., 2023). This contrasts with the USDA Dietary Guidelines for Americans, which according to their guidelines site, include recommendations for consuming animal products (U.S. Department of Agriculture & U.S. Department of Health and Human Services, 2020). Unlike a vegetarian diet, which according to Łuszczki et al. may incorporate dairy and eggs but excludes meat, poultry, and fish, a vegan diet eliminates all forms of animal-derived ingredients (Łuszczki et al., 2023). They tell us that key components of a vegan diet are fruits, vegetables, legumes, nuts, seeds, and whole grains, which provide necessary nutrients including protein (Łuszczki et al., 2023). The article tell us that to meet protein requirements, vegans should consume a diverse array of these plant-based foods, ensuring adequate intake of all essential amino acids (Łuszczki et al., 2023).\n",
    "\n",
    "A vegan diet, like everything, has it's pros and cons. Advantages mentioned by Łuszczki et al. include reduced risk of chronic diseases such as type 2 diabetes and hypertension while disadvantages mentioned include challenges ensuring adequate intake of important nutrients such as vitamin B12 and iron (Łuszczki et al., 2023). The article provides a balanced analysis of the diet giving us both the benefits and challenges of following a vegan diet.\n",
    "\n",
    "## Vegan Meal Plan Table\n",
    "\n",
    "| Meal      | Quantity | Food Item                 | Energy (kcal) | Carbohydrates (g) | Protein (g) | Fat (g) |\n",
    "|-----------|----------|---------------------------|---------------|-------------------|-------------|---------|\n",
    "| Breakfast | 1 med.   | Oat Bran Bagel            | 236           | 47                | 9.5         | 1.1     |\n",
    "|           | 2 oz.    | Vegan Cream Cheese        | 197           | 2.3               | 2.4         | 19.4    |\n",
    "|           | 1 cup    | Orange Juice              | 115           | 25.8              | 1.7         | 0.5     |\n",
    "|           | 2 cups   | Coffee, Black             | 5             | 1.3               | 0           | 0       |\n",
    "| Lunch     | 1        | Vegan Burger (Bean/Lentil)| 305           | 29.9              | 15.1        | 13.9    |\n",
    "|           | 1 oz.    | Potato Chips, Plain       | 161           | 14.4              | 1.9         | 10.6    |\n",
    "|           | 22 oz.   | Cola                      | 188           | 46.5              | 0.3         | 0.1     |\n",
    "| Dinner    | 1 med.   | Grilled Tempeh/Tofu       | 371           | 0                 | 58.4        | 15.3    |\n",
    "|           | 1 large  | Potato, Baked             | 287           | 63.2              | 7.5         | 0.4     |\n",
    "|           | 1 cup    | Carrots, Cooked           | 59            | 12.8              | 1.2         | 0.3     |\n",
    "|           | 1 cup    | Vegan Ice Cream, Chocolate| 299           | 37                | 5           | 14.5    |\n",
    "| Snacks    | 1 med.   | Banana                    | 117           | 27                | 1.3         | 0.4     |\n",
    "| **Totals**|          |                           | 2340          | 306.2             | 104.9       | 76.4    |\n"
   ]
  },
  {
   "cell_type": "code",
   "execution_count": 2,
   "metadata": {},
   "outputs": [
    {
     "data": {
      "text/plain": [
       "(52.34188034188034, 17.931623931623932, 29.384615384615387)"
      ]
     },
     "execution_count": 2,
     "metadata": {},
     "output_type": "execute_result"
    }
   ],
   "source": [
    "# Given values from the table\n",
    "total_kcal = 2340\n",
    "total_carbohydrates_g = 306.2\n",
    "total_protein_g = 104.9\n",
    "total_fat_g = 76.4\n",
    "\n",
    "# Caloric values per gram\n",
    "kcal_per_g_carbohydrates = 4\n",
    "kcal_per_g_protein = 4\n",
    "kcal_per_g_fat = 9\n",
    "\n",
    "# Calculate the percentage contribution of each macronutrient to the total kcal\n",
    "percentage_carbohydrates = (total_carbohydrates_g * kcal_per_g_carbohydrates / total_kcal) * 100\n",
    "percentage_protein = (total_protein_g * kcal_per_g_protein / total_kcal) * 100\n",
    "percentage_fat = (total_fat_g * kcal_per_g_fat / total_kcal) * 100\n",
    "\n",
    "percentage_carbohydrates, percentage_protein, percentage_fat\n"
   ]
  },
  {
   "cell_type": "code",
   "execution_count": null,
   "metadata": {},
   "outputs": [],
   "source": []
  }
 ],
 "metadata": {
  "kernelspec": {
   "display_name": ".venv",
   "language": "python",
   "name": "python3"
  },
  "language_info": {
   "codemirror_mode": {
    "name": "ipython",
    "version": 3
   },
   "file_extension": ".py",
   "mimetype": "text/x-python",
   "name": "python",
   "nbconvert_exporter": "python",
   "pygments_lexer": "ipython3",
   "version": "3.11.8"
  }
 },
 "nbformat": 4,
 "nbformat_minor": 2
}
