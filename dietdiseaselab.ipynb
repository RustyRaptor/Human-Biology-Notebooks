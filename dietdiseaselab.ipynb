{
 "cells": [
  {
   "cell_type": "markdown",
   "metadata": {},
   "source": [
    "1. What is a vegan diet\n",
    "   1. A Vegan diet is a diet that comoses of plant-based foods and excludes all animal products.\n",
    "2. How does a vegan diet differ from the USDA Dietary Guidelines for Americans\n",
    "   1. The USDA Dietary Guidelines for Americans recommends a diet that includes animal products, such as meat, dairy, and eggs, while a vegan diet excludes all animal products.\n",
    "3. What is the difference between a vegetarian and a vegan diet\n",
    "   1. A vegetarian diet excludes meat, poultry, and fish, but may include dairy and eggs, while a vegan diet excludes all animal products.\n",
    "4. Which foods are emphasized in a vegan diet\n",
    "   1. A vegan diet emphasizes plant-based foods, such as fruits, vegetables, whole grains, legumes, nuts, and seeds.\n",
    "5. Which foods are not eaten on a vegan diet\n",
    "   1. A vegan diet does not include animal products, such as meat, poultry, fish, dairy, and eggs.\n",
    "6. How does a person following a vegan diet ensure that they are obtaining enough protein?\n",
    "   1. A person following a vegan diet can obtain enough protein by eating a variety of plant-based foods, such as legumes, nuts, seeds, and whole grains.\n",
    "\n",
    "\n",
    "To convert the given diet into a vegan one that still adheres to USDA recommendations for a balanced intake of nutrients, we'll need to substitute animal-based products with plant-based alternatives. These alternatives should match the original items in terms of caloric content and macronutrient distribution as closely as possible to ensure the diet remains balanced. Here's how you could adjust each meal:\n",
    "\n",
    "### Vegan Meal Plan Table\n",
    "\n",
    "| Meal      | Quantity | Food Item                 | Energy (kcal) | Carbohydrates (g) | Protein (g) | Fat (g) |\n",
    "|-----------|----------|---------------------------|---------------|-------------------|-------------|---------|\n",
    "| Breakfast | 1 med.   | Oat Bran Bagel            | 236           | 47                | 9.5         | 1.1     |\n",
    "|           | 2 oz.    | Vegan Cream Cheese        | 197           | 2.3               | 2.4         | 19.4    |\n",
    "|           | 1 cup    | Orange Juice              | 115           | 25.8              | 1.7         | 0.5     |\n",
    "|           | 2 cups   | Coffee, Black             | 5             | 1.3               | 0           | 0       |\n",
    "| Lunch     | 1        | Vegan Burger (Bean/Lentil)| 305           | 29.9              | 15.1        | 13.9    |\n",
    "|           | 1 oz.    | Potato Chips, Plain       | 161           | 14.4              | 1.9         | 10.6    |\n",
    "|           | 22 oz.   | Cola                      | 188           | 46.5              | 0.3         | 0.1     |\n",
    "| Dinner    | 1 med.   | Grilled Tempeh/Tofu       | 371           | 0                 | 58.4        | 15.3    |\n",
    "|           | 1 large  | Potato, Baked             | 287           | 63.2              | 7.5         | 0.4     |\n",
    "|           | 1 cup    | Carrots, Cooked           | 59            | 12.8              | 1.2         | 0.3     |\n",
    "|           | 1 cup    | Vegan Ice Cream, Chocolate| 299           | 37                | 5           | 14.5    |\n",
    "| Snacks    | 1 med.   | Banana                    | 117           | 27                | 1.3         | 0.4     |\n",
    "| **Totals**|          |                           | 2340          | 306.2             | 104.9       | 76.4    |\n"
   ]
  },
  {
   "cell_type": "code",
   "execution_count": null,
   "metadata": {},
   "outputs": [],
   "source": []
  }
 ],
 "metadata": {
  "language_info": {
   "name": "python"
  }
 },
 "nbformat": 4,
 "nbformat_minor": 2
}
