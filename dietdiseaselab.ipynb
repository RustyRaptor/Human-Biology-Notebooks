{
 "cells": [
  {
   "cell_type": "markdown",
   "metadata": {},
   "source": [
    "<!-- 1. What is a vegan diet\n",
    "   1. A Vegan diet is a diet that comoses of plant-based foods and excludes all animal products.\n",
    "2. How does a vegan diet differ from the USDA Dietary Guidelines for Americans\n",
    "   1. The USDA Dietary Guidelines for Americans recommends a diet that includes animal products, such as meat, dairy, and eggs, while a vegan diet excludes all animal products.\n",
    "3. What is the difference between a vegetarian and a vegan diet\n",
    "   1. A vegetarian diet excludes meat, poultry, and fish, but may include dairy and eggs, while a vegan diet excludes all animal products.\n",
    "4. Which foods are emphasized in a vegan diet\n",
    "   1. A vegan diet emphasizes plant-based foods, such as fruits, vegetables, whole grains, legumes, nuts, and seeds.\n",
    "5. Which foods are not eaten on a vegan diet\n",
    "   1. A vegan diet does not include animal products, such as meat, poultry, fish, dairy, and eggs.\n",
    "6. How does a person following a vegan diet ensure that they are obtaining enough protein?\n",
    "   1. A person following a vegan diet can obtain enough protein by eating a variety of plant-based foods, such as legumes, nuts, seeds, and whole grains. -->\n",
    "\n",
    "# Vegan Diet\n",
    "\n",
    "## Summary of a Vegan Diet\n",
    "\n",
    "\n",
    "According to Łuszczki et al., a vegan diet consists entirely of plant-based foods and avoids all animal products including meat, dairy, and eggs (Łuszczki et al., 2023). This contrasts with the USDA Dietary Guidelines for Americans, which according to their guidelines site, include recommendations for consuming animal products (U.S. Department of Agriculture & U.S. Department of Health and Human Services, 2020). Unlike a vegetarian diet, which according to Łuszczki et al. may incorporate dairy and eggs but excludes meat, poultry, and fish, a vegan diet eliminates all forms of animal-derived ingredients (Łuszczki et al., 2023). They tell us that key components of a vegan diet are fruits, vegetables, legumes, nuts, seeds, and whole grains, which provide necessary nutrients including protein (Łuszczki et al., 2023). The article tell us that to meet protein requirements, vegans should consume a diverse array of these plant-based foods, ensuring adequate intake of all essential amino acids (Łuszczki et al., 2023).\n",
    "\n",
    "A vegan diet, like everything, has it's pros and cons. Advantages mentioned by Łuszczki et al. include reduced risk of chronic diseases such as type 2 diabetes and hypertension while disadvantages mentioned include challenges ensuring adequate intake of important nutrients such as vitamin B12 and iron (Łuszczki et al., 2023). The article provides a balanced analysis of the diet giving us both the benefits and challenges of following a vegan diet.\n",
    "\n",
    "## Disease and Vegan Diet\n",
    "\n",
    "### Diabetes\n",
    "\n",
    "According to Łuszczki et al. diabetes is a chronic condition characterized by high blood sugar levels due to the body's inability to produce or use insulin effectively (Łuszczki et al., 2023).\n",
    "\n",
    "According to the American Diabetes Association, Type 1 and Type 2 diabetes have very similar symptoms and characteristics but are caused by different factors. They tell us that Type 1 diabetes is an autoimmune disease where the body attacks the insulin-producing cells in the pancreas, while Type 2 diabetes is caused by insulin resistance, where the body's cells do not respond properly to insulin (American Diabetes Association, n.d.). In the article by Łuszczki et al. they mainly talk about Type 2 diabetes and how a vegan diet can help prevent it (Łuszczki et al., 2023).\n",
    "\n",
    "According to the American Diabetes Association, Type 2 diabetes and diabetes in general is best treated with individualistic care plans that include a combination of diet, exercise, and medication (American Diabetes Association, n.d.). They tell us that there are many different drugs, including insulin, that can be used to manage blood sugar levels in patients with diabetes and that it is important to take the time and care to find the right combination of medication, insulin, and lifestyle changes for an individual with diabetes (American Diabetes Association, n.d.).\n",
    "\n",
    "According to Łuszczki et al., a vegan diet can help prevent the development of type 2 diabetes by reducing the risk factors associated with the disease, such as obesity, high blood pressure, and high cholesterol (Łuszczki et al., 2023). They also specifically mention that meat products contain high levels of a certain type of iron that is associated with an increased risk of type 2 diabetes, which is another reason why a vegan diet can help prevent the disease (Łuszczki et al., 2023).\n",
    "\n",
    "The American Diabetes Association doesn't immediately recommend a specific type of diet but rather provides criteria and philosophy on how to build an individualistic diet plan (American Diabetes Association, n.d.). However they also do mention the vegan diet plan as being an excellent option for preventing and treating type 2 diabetes (American Diabetes Association, n.d.).\n",
    "\n",
    "### Diabetes General Nutritional Recommendation\n",
    "\n",
    "The American Diabetes Association provides general nutritional recommendations for individuals with diabetes. The first approach they recommend is the Diabetes Plate Method, which involves finding a healthy amount of vegetables, protein, and carbs without the need for excessive measurement (American Diabetes Association, n.d.).\n",
    "\n",
    "This sounds very similar to what we developed in the lab. A balenced diet that focusses on meeting the USDA's dietary guidelines for proportions of food groups. So it seems that the vegan diet we developed in the lab would be a good option for someone with diabetes. Not to mention, as we said before, the ADA specifically mentions the vegan diet as a good option for preventing and treating type 2 diabetes (American Diabetes Association, n.d.).\n",
    "\n",
    "### Cardiovascular Disease General Nutritional Recommendation\n",
    "\n",
    "The American Heart Association tells us that a heart-healthy diet is one that starts with good decision making when it comes to food (American Heart Association, n.d.). Very similarly to the ADA, the AHA mentions a balenced diet when approaching healthy eating (American Heart Association, n.d.). In their diet and lifestyle recommendations, the AHA starts by recommending a calorie management plan that involves tracking how many calories you burn and how many calories you intake daily with an important note that the daily recommendation of 2000 calories is not a one-size-fits-all recommendation (American Heart Association, n.d.).\n",
    "\n",
    "The AHA's guidelines are very similar to the ADA guidelines with the emphasis on calorie counting. So with that in mind we can once again recommend the vegan meal plan. However, our mealplan is tailored to a specific calorie count. Therefore, it is important to modify it and adjust it to meet the needs of an individual based on their caloric needs.\n",
    "## Vegan Meal Plan Table\n",
    "\n",
    "| Meal      | Quantity | Food Item                 | Energy (kcal) | Carbohydrates (g) | Protein (g) | Fat (g) |\n",
    "|-----------|----------|---------------------------|---------------|-------------------|-------------|---------|\n",
    "| Breakfast | 1 med.   | Oat Bran Bagel            | 236           | 47                | 9.5         | 1.1     |\n",
    "|           | 2 oz.    | Vegan Cream Cheese        | 197           | 2.3               | 2.4         | 19.4    |\n",
    "|           | 1 cup    | Orange Juice              | 115           | 25.8              | 1.7         | 0.5     |\n",
    "|           | 2 cups   | Coffee, Black             | 5             | 1.3               | 0           | 0       |\n",
    "| Lunch     | 1        | Vegan Burger (Bean/Lentil)| 305           | 29.9              | 15.1        | 13.9    |\n",
    "|           | 1 oz.    | Potato Chips, Plain       | 161           | 14.4              | 1.9         | 10.6    |\n",
    "|           | 22 oz.   | Cola                      | 188           | 46.5              | 0.3         | 0.1     |\n",
    "| Dinner    | 1 med.   | Grilled Tempeh/Tofu       | 371           | 0                 | 58.4        | 15.3    |\n",
    "|           | 1 large  | Potato, Baked             | 287           | 63.2              | 7.5         | 0.4     |\n",
    "|           | 1 cup    | Carrots, Cooked           | 59            | 12.8              | 1.2         | 0.3     |\n",
    "|           | 1 cup    | Vegan Ice Cream, Chocolate| 299           | 37                | 5           | 14.5    |\n",
    "| Snacks    | 1 med.   | Banana                    | 117           | 27                | 1.3         | 0.4     |\n",
    "| **Totals**|          |                           | 2340          | 306.2             | 104.9       | 76.4    |\n"
   ]
  },
  {
   "cell_type": "markdown",
   "metadata": {},
   "source": [
    "## Raw Calculations used. "
   ]
  },
  {
   "cell_type": "code",
   "execution_count": 1,
   "metadata": {},
   "outputs": [
    {
     "data": {
      "text/plain": [
       "(52.34188034188034, 17.931623931623932, 29.384615384615387)"
      ]
     },
     "execution_count": 1,
     "metadata": {},
     "output_type": "execute_result"
    }
   ],
   "source": [
    "# Given values from the table\n",
    "total_kcal = 2340\n",
    "total_carbohydrates_g = 306.2\n",
    "total_protein_g = 104.9\n",
    "total_fat_g = 76.4\n",
    "\n",
    "# Caloric values per gram\n",
    "kcal_per_g_carbohydrates = 4\n",
    "kcal_per_g_protein = 4\n",
    "kcal_per_g_fat = 9\n",
    "\n",
    "# Calculate the percentage contribution of each macronutrient to the total kcal\n",
    "percentage_carbohydrates = (total_carbohydrates_g * kcal_per_g_carbohydrates / total_kcal) * 100\n",
    "percentage_protein = (total_protein_g * kcal_per_g_protein / total_kcal) * 100\n",
    "percentage_fat = (total_fat_g * kcal_per_g_fat / total_kcal) * 100\n",
    "\n",
    "percentage_carbohydrates, percentage_protein, percentage_fat\n"
   ]
  },
  {
   "cell_type": "code",
   "execution_count": null,
   "metadata": {},
   "outputs": [],
   "source": []
  }
 ],
 "metadata": {
  "kernelspec": {
   "display_name": ".venv",
   "language": "python",
   "name": "python3"
  },
  "language_info": {
   "codemirror_mode": {
    "name": "ipython",
    "version": 3
   },
   "file_extension": ".py",
   "mimetype": "text/x-python",
   "name": "python",
   "nbconvert_exporter": "python",
   "pygments_lexer": "ipython3",
   "version": "3.11.8"
  }
 },
 "nbformat": 4,
 "nbformat_minor": 2
}
