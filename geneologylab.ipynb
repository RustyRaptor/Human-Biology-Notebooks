{
 "cells": [
  {
   "cell_type": "markdown",
   "metadata": {},
   "source": [
    "# Genes lab observations\n",
    "- Ziad Arafat\n",
    "- 03/05/2024\n",
    "- New Mexico State University\n",
    "\n",
    "## Observations\n",
    "\n",
    "|   | E  | e  |\n",
    "|---|----|----|\n",
    "| E | EE | Ee |\n",
    "| e | Ee | ee |\n",
    "\n",
    "- EE: 1/4\n",
    "- Ee: 2/4\n",
    "- ee: 1/4\n",
    "- EE + Ee = 3/4\n",
    "- ee: 1/4\n",
    "\n",
    "|   | E  | e  |\n",
    "|---|----|----|\n",
    "| E | EE | Ee |\n",
    "| e | Ee | ee |\n",
    "\n",
    "|   | E  | e  |\n",
    "|---|----|----|\n",
    "| E | EE | Ee |\n",
    "| e | Ee | ee |\n",
    "\n",
    "|   | E  | e  |\n",
    "|---|----|----|\n",
    "| E | EE | Ee |\n",
    "| E | EE | Ee |\n",
    "\n",
    "- 1/8 percent chance\n",
    "\n",
    "### KORN\n",
    "\n",
    "#### 8\n",
    "\n",
    "If they cannot produce ANY chlorophyl then they cannot photosynthesize. If they cannot photosynthesize they cannot obtain energy. Without energy the plant will die before it can reproduce. \n",
    "\n",
    "#### 9 \n",
    "\n",
    "##### a\n",
    "GG\n",
    "\n",
    "##### b\n",
    "Gg\n",
    "\n",
    "GG x GG\n",
    "GG x Gg\n",
    "Gg x Gg\n",
    "\n",
    "##### 10\n",
    "\n",
    "Gg x Gg only\n",
    "\n",
    "##### 11\n",
    "\n",
    "Gg x Gg because that is the only combo that can produce both phenotypes. \n",
    "\n",
    "|   | G  | g  |\n",
    "|---|----|----|\n",
    "| G | GG | Gg |\n",
    "| g | Gg | gg |\n",
    "\n",
    "GG: 1/4\n",
    "Gg: 2/4\n",
    "gg: 1/4\n",
    "\n",
    "Green: 3/4\n",
    "Albino: 1/4\n"
   ]
  },
  {
   "cell_type": "code",
   "execution_count": 3,
   "metadata": {},
   "outputs": [
    {
     "name": "stdout",
     "output_type": "stream",
     "text": [
      "{'EE': 1, 'Ee': 1, 'eE': 1, 'ee': 1}\n"
     ]
    }
   ],
   "source": []
  },
  {
   "cell_type": "code",
   "execution_count": null,
   "metadata": {},
   "outputs": [],
   "source": []
  }
 ],
 "metadata": {
  "kernelspec": {
   "display_name": ".venv",
   "language": "python",
   "name": "python3"
  },
  "language_info": {
   "codemirror_mode": {
    "name": "ipython",
    "version": 3
   },
   "file_extension": ".py",
   "mimetype": "text/x-python",
   "name": "python",
   "nbconvert_exporter": "python",
   "pygments_lexer": "ipython3",
   "version": "3.11.7"
  }
 },
 "nbformat": 4,
 "nbformat_minor": 2
}
