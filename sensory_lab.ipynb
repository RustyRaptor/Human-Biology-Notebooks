{
 "cells": [
  {
   "cell_type": "markdown",
   "metadata": {},
   "source": []
  },
  {
   "cell_type": "code",
   "execution_count": 1,
   "metadata": {},
   "outputs": [],
   "source": [
    "# Poke with the measuring tool detect 1 or 2 prongs\n",
    "predicitons_observed1_observed2 = {\n",
    "        \"lower_arm\": (\"close\", \"close\", \"far\"),\n",
    "        \"back_of_hand\": (\"medium\", \"close\", \"close\"),\n",
    "        \"fingertip\": (\"close\", \"close\", \"close\"),\n",
    "}\n",
    "\n",
    "# Ping pong ball throw with 1 eye open or 2 eyes open\n",
    "catch_miss = {\n",
    "        \"1_eye_open\": ((17, 13),(14, 16)),\n",
    "        \"2_eyes_open\": ((25, 5), (28, 2)),\n",
    "}\n"
   ]
  }
 ],
 "metadata": {
  "kernelspec": {
   "display_name": ".venv",
   "language": "python",
   "name": "python3"
  },
  "language_info": {
   "codemirror_mode": {
    "name": "ipython",
    "version": 3
   },
   "file_extension": ".py",
   "mimetype": "text/x-python",
   "name": "python",
   "nbconvert_exporter": "python",
   "pygments_lexer": "ipython3",
   "version": "3.11.8"
  }
 },
 "nbformat": 4,
 "nbformat_minor": 2
}
